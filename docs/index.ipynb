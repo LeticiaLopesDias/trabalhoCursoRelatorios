{
  "cells": [
    {
      "cell_type": "raw",
      "metadata": {},
      "source": [
        "---\n",
        "title: \"Desmatamento em Áreas Protegidas da Amazônia\"\n",
        "author: \"Letícia Lopes\"\n",
        "date: \"`r Sys.Date()`\"\n",
        "format:\n",
        "  html:\n",
        "    theme: journal\n",
        "---"
      ],
      "id": "f528aee4"
    },
    {
      "cell_type": "markdown",
      "metadata": {},
      "source": [
        "```{css}\n",
        ".nota {\n",
        "  font-size: 10px;\n",
        "}\n",
        "\n",
        "\n",
        "```\n",
        "\n",
        "\n",
        "<em class='nota'>\n",
        "*A 1ª versão desse relatório foi feita como trabalho final do curso \"R para Ciência de Dados 1\", da <a href=\"https://curso-r.com/\" target=\"_blank\">Curso-R</a>, em outubro de 2021 e está disponível para acesso <a href=\"https://leticialopesdias.github.io/relatorio/docs/\" target=\"_blank\">nesse link</a>. Essa versão consiste no trabalho final do curso \"Relatórios Automáticos\", também da Curso-R.*\n",
        "</em>\n",
        "\n",
        "## Contexto\n",
        "\n",
        "O desmatamento da floresta amazônica se destaca nas discussões sobre mudanças climáticas uma vez que é responsável por quase metade das emissões de gases de efeito estufa pelo Brasil[^1].\n",
        "\n",
        "[^1]: Saiba mais sobre as emissões de gases de efeito estufa no Brasil em \\<https://seeg.eco.br>.\n",
        "\n",
        "As áreas protegidas formam uma barreira contra esse desmatamento, sendo que diversos projetos de conservação visam apoiar essas áreas no cumprimento de seus objetivos. O Projeto <a href=\"https://lira.ipe.org.br/\" target=\"_blank\">**LIRA - Legado Integrado da Região Amazônica**</a> se soma às iniciativas existentes e abrange 43 unidades de conservação e 43 terras indígenas da Amazônia brasileira.\n",
        "\n",
        "Para analisar o desmatamento na Amazônia e nas áreas apoiadas pelo LIRA, foram utilizados dados gerados pelo **INPE - Instituto Nacional de Pesquisas Espaciais** e disponibilizados no portal <a href=\"http://terrabrasilis.dpi.inpe.br/\" target=\"_blank\">TerraBrasilis</a>."
      ],
      "id": "f01ca060"
    }
  ],
  "metadata": {
    "kernelspec": {
      "display_name": "Python 3",
      "language": "python",
      "name": "python3"
    }
  },
  "nbformat": 4,
  "nbformat_minor": 5
}